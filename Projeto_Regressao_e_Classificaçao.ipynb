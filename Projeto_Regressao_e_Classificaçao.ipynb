{
  "nbformat": 4,
  "nbformat_minor": 0,
  "metadata": {
    "colab": {
      "provenance": [],
      "authorship_tag": "ABX9TyMrzrjd7qs0UTylnLCWSWBw",
      "include_colab_link": true
    },
    "kernelspec": {
      "name": "python3",
      "display_name": "Python 3"
    },
    "language_info": {
      "name": "python"
    }
  },
  "cells": [
    {
      "cell_type": "markdown",
      "metadata": {
        "id": "view-in-github",
        "colab_type": "text"
      },
      "source": [
        "<a href=\"https://colab.research.google.com/github/xdm55/ex-praticos/blob/main/Projeto_Regressao_e_Classifica%C3%A7ao.ipynb\" target=\"_parent\"><img src=\"https://colab.research.google.com/assets/colab-badge.svg\" alt=\"Open In Colab\"/></a>"
      ]
    },
    {
      "cell_type": "markdown",
      "source": [
        " Prever o preço de carros com base em características, e também prever a categoria do carro (econômico, médio ou luxo).\n",
        "\n"
      ],
      "metadata": {
        "id": "5iJj4UAYbR_Y"
      }
    },
    {
      "cell_type": "markdown",
      "source": [
        " Regressão: Usaremos Regressão Linear para prever o preço.\n",
        " Classificação: Usaremos Random Forest para categorizar os carros.\n",
        "\n",
        "Etapas:\n",
        "\n",
        "Carregar os dados,\n",
        "Pré-processamento,\n",
        "Treinamento dos modelos,\n",
        "Avaliação dos modelos"
      ],
      "metadata": {
        "id": "3eHWn0p6bqwh"
      }
    },
    {
      "cell_type": "code",
      "execution_count": null,
      "metadata": {
        "id": "deUBadDVOSQ6"
      },
      "outputs": [],
      "source": [
        "import pandas as pd\n",
        "import numpy as np\n",
        "from sklearn.model_selection import train_test_split\n",
        "from sklearn.preprocessing import StandardScaler, LabelEncoder\n",
        "from sklearn.linear_model import LinearRegression\n",
        "from sklearn.ensemble import RandomForestClassifier\n",
        "from sklearn.metrics import mean_absolute_error, accuracy_score\n",
        "\n",
        "# 1. Carregar dados (exemplo fictício)\n",
        "data = pd.DataFrame({\n",
        "    'idade': np.random.randint(1, 15, 100),\n",
        "    'km_rodado': np.random.randint(1000, 200000, 100),\n",
        "    'potencia': np.random.randint(50, 300, 100),\n",
        "    'preco': np.random.randint(20000, 200000, 100)\n",
        "})\n",
        "\n",
        "# Criar categorias de carro\n",
        "bins = [0, 50000, 100000, 200000]\n",
        "labels = ['Econômico', 'Médio', 'Luxo']\n",
        "data['categoria'] = pd.cut(data['preco'], bins=bins, labels=labels)\n"
      ]
    },
    {
      "cell_type": "code",
      "source": [
        "# 2. Pré-processamento\n",
        "data.dropna(inplace=True)  # Remover valores nulos\n",
        "le = LabelEncoder()\n",
        "data['categoria'] = le.fit_transform(data['categoria'])  # Converter para numérico\n",
        "\n",
        "# Separar features e target para regressão (previsão de preço)\n",
        "X_reg = data[['idade', 'km_rodado', 'potencia']]\n",
        "y_reg = data['preco']\n",
        "X_train_reg, X_test_reg, y_train_reg, y_test_reg = train_test_split(X_reg, y_reg, test_size=0.2, random_state=42)\n",
        "\n",
        "# Separar features e target para classificação (categoria do carro)\n",
        "X_clf = data[['idade', 'km_rodado', 'potencia']]\n",
        "y_clf = data['categoria']\n",
        "X_train_clf, X_test_clf, y_train_clf, y_test_clf = train_test_split(X_clf, y_clf, test_size=0.2, random_state=42)\n",
        "\n",
        "# Padronizar os dados\n",
        "scaler = StandardScaler()\n",
        "X_train_reg = scaler.fit_transform(X_train_reg)\n",
        "X_test_reg = scaler.transform(X_test_reg)\n",
        "X_train_clf = scaler.fit_transform(X_train_clf)\n",
        "X_test_clf = scaler.transform(X_test_clf)\n",
        "\n"
      ],
      "metadata": {
        "id": "SXZ5r1hCb_XI"
      },
      "execution_count": null,
      "outputs": []
    },
    {
      "cell_type": "code",
      "source": [
        "# 3. Treinamento dos modelos\n",
        "# Modelo de Regressão\n",
        "regressor = LinearRegression()\n",
        "regressor.fit(X_train_reg, y_train_reg)\n",
        "y_pred_reg = regressor.predict(X_test_reg)\n",
        "mae = mean_absolute_error(y_test_reg, y_pred_reg)\n",
        "print(f'MAE da Regressão: {mae:.2f}')\n",
        "\n",
        "# Modelo de Classificação\n",
        "classifier = RandomForestClassifier(n_estimators=100, random_state=42)\n",
        "classifier.fit(X_train_clf, y_train_clf)\n",
        "y_pred_clf = classifier.predict(X_test_clf)\n",
        "acc = accuracy_score(y_test_clf, y_pred_clf)\n",
        "print(f'Acurácia da Classificação: {acc:.2f}')\n"
      ],
      "metadata": {
        "colab": {
          "base_uri": "https://localhost:8080/"
        },
        "id": "yDwnHt6VcV9Q",
        "outputId": "9c600e66-815b-4fd7-d3ce-b7aa0b84779d"
      },
      "execution_count": null,
      "outputs": [
        {
          "output_type": "stream",
          "name": "stdout",
          "text": [
            "MAE da Regressão: 32591.74\n",
            "Acurácia da Classificação: 0.65\n"
          ]
        }
      ]
    }
  ]
}